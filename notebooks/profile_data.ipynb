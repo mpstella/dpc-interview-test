{
 "cells": [
  {
   "cell_type": "code",
   "execution_count": 30,
   "metadata": {},
   "outputs": [],
   "source": [
    "import pandas as pd\n",
    "from pathlib import Path\n",
    "import os\n",
    "import sqlite3\n",
    "import hashlib\n",
    "import datetime"
   ]
  },
  {
   "cell_type": "markdown",
   "metadata": {},
   "source": [
    "#### Program variables"
   ]
  },
  {
   "cell_type": "code",
   "execution_count": 62,
   "metadata": {},
   "outputs": [],
   "source": [
    "ODATE = datetime.datetime(2022, 3, 20)\n",
    "ODATE_MINUS_1 = ODATE - datetime.timedelta(days=1)\n",
    "\n",
    "DBNAME = \"DPC_IQ.db\"\n",
    "\n",
    "DROP_INITIAL_DATABASE = False"
   ]
  },
  {
   "cell_type": "markdown",
   "metadata": {},
   "source": [
    "### Connect to sqlite"
   ]
  },
  {
   "cell_type": "code",
   "execution_count": 32,
   "metadata": {},
   "outputs": [],
   "source": [
    "file_path = Path(os.getcwd()) / \"../\" / \"data\""
   ]
  },
  {
   "cell_type": "code",
   "execution_count": 56,
   "metadata": {},
   "outputs": [],
   "source": [
    "conn = sqlite3.connect(file_path / DBNAME)"
   ]
  },
  {
   "cell_type": "code",
   "execution_count": 34,
   "metadata": {},
   "outputs": [],
   "source": [
    "def execute_query(connection, query):\n",
    "\n",
    "    cur = connection.cursor()\n",
    "    cur.execute(query)\n",
    "\n",
    "def initialise_db(connection, drop_tables=False):\n",
    "    \n",
    "    if drop_tables:\n",
    "        for _t in [\"country_dim\"]:\n",
    "            execute_query(connection, f\"DROP TABLE IF EXISTS {_t}\")\n",
    "          \n",
    "    _dim_create = \"\"\"\n",
    "    create table if not exists country_dim (\n",
    "        country_id INTEGER,\n",
    "        key TEXT,\n",
    "        place_id TEXT,\n",
    "        country_code TEXT,\n",
    "        country_name TEXT,\n",
    "        subregion1_code TEXT,\n",
    "        subregion1_name TEXT,\n",
    "        subregion2_name TEXT,\n",
    "        effective_start_date DATE,\n",
    "        effective_end_date DATE,\n",
    "        hash_val TEXT,\n",
    "        current_indicator INTEGER\n",
    "    )    \n",
    "    \"\"\"\n",
    "    \n",
    "    execute_query(connection, _dim_create)"
   ]
  },
  {
   "cell_type": "markdown",
   "metadata": {},
   "source": [
    "### Some pandas helper functions"
   ]
  },
  {
   "cell_type": "code",
   "execution_count": 35,
   "metadata": {},
   "outputs": [],
   "source": [
    "def add_hash(df):\n",
    "    # better to drop any existing hash_val incase this is run multiple times.\n",
    "    df.drop(['__str','hash_val'], axis=1, errors='ignore', inplace=True)\n",
    "    df['__str'] = df.astype(str).values.sum(axis=1)\n",
    "    df['hash_val'] = df['__str'].apply(lambda x: hashlib.md5(str(x).encode('utf-8')).hexdigest())"
   ]
  },
  {
   "cell_type": "markdown",
   "metadata": {},
   "source": [
    "# main()"
   ]
  },
  {
   "cell_type": "code",
   "execution_count": 36,
   "metadata": {},
   "outputs": [],
   "source": [
    "initialise_db(conn, drop_tables=DROP_INITIAL_DATABASE)"
   ]
  },
  {
   "cell_type": "code",
   "execution_count": 37,
   "metadata": {},
   "outputs": [
    {
     "name": "stdout",
     "output_type": "stream",
     "text": [
      "(10, 1)\n"
     ]
    }
   ],
   "source": [
    "customer_dimension = pd.read_sql_query(\"select key, hash_val from country_dim where current_indicator='1'\", conn)\n",
    "\n",
    "customer_dimension.set_index('key', inplace=True)\n",
    "\n",
    "print(customer_dimension.shape)"
   ]
  },
  {
   "cell_type": "code",
   "execution_count": 38,
   "metadata": {},
   "outputs": [
    {
     "data": {
      "text/html": [
       "<div>\n",
       "<style scoped>\n",
       "    .dataframe tbody tr th:only-of-type {\n",
       "        vertical-align: middle;\n",
       "    }\n",
       "\n",
       "    .dataframe tbody tr th {\n",
       "        vertical-align: top;\n",
       "    }\n",
       "\n",
       "    .dataframe thead th {\n",
       "        text-align: right;\n",
       "    }\n",
       "</style>\n",
       "<table border=\"1\" class=\"dataframe\">\n",
       "  <thead>\n",
       "    <tr style=\"text-align: right;\">\n",
       "      <th></th>\n",
       "      <th>hash_val</th>\n",
       "    </tr>\n",
       "    <tr>\n",
       "      <th>key</th>\n",
       "      <th></th>\n",
       "    </tr>\n",
       "  </thead>\n",
       "  <tbody>\n",
       "    <tr>\n",
       "      <th>NaN</th>\n",
       "      <td>aee73a5003fd6f3714887492e38dd166</td>\n",
       "    </tr>\n",
       "    <tr>\n",
       "      <th>AU</th>\n",
       "      <td>ea006a33d07849ac46cb238b5ecd6e09</td>\n",
       "    </tr>\n",
       "    <tr>\n",
       "      <th>AU_ACT</th>\n",
       "      <td>928da08b75184b5932056b98c62e8b54</td>\n",
       "    </tr>\n",
       "    <tr>\n",
       "      <th>AU_NSW</th>\n",
       "      <td>1409a631858768c4bf24b91a439417b6</td>\n",
       "    </tr>\n",
       "    <tr>\n",
       "      <th>AU_NT</th>\n",
       "      <td>2cf4a65dab52fcb03c874fa3e2ceb27d</td>\n",
       "    </tr>\n",
       "    <tr>\n",
       "      <th>AU_QLD</th>\n",
       "      <td>2aa46942c6ea82839fe8fb3a32b30b95</td>\n",
       "    </tr>\n",
       "    <tr>\n",
       "      <th>AU_SA</th>\n",
       "      <td>818e4a41ce7ac6b7f79967526291df5f</td>\n",
       "    </tr>\n",
       "    <tr>\n",
       "      <th>AU_TAS</th>\n",
       "      <td>42a788615067d27c47e9beda35629ffd</td>\n",
       "    </tr>\n",
       "    <tr>\n",
       "      <th>AU_VIC</th>\n",
       "      <td>1</td>\n",
       "    </tr>\n",
       "    <tr>\n",
       "      <th>AU_WA</th>\n",
       "      <td>9c3d6def3b4f38ffd327c7dae0063a8b</td>\n",
       "    </tr>\n",
       "  </tbody>\n",
       "</table>\n",
       "</div>"
      ],
      "text/plain": [
       "                                hash_val\n",
       "key                                     \n",
       "NaN     aee73a5003fd6f3714887492e38dd166\n",
       "AU      ea006a33d07849ac46cb238b5ecd6e09\n",
       "AU_ACT  928da08b75184b5932056b98c62e8b54\n",
       "AU_NSW  1409a631858768c4bf24b91a439417b6\n",
       "AU_NT   2cf4a65dab52fcb03c874fa3e2ceb27d\n",
       "AU_QLD  2aa46942c6ea82839fe8fb3a32b30b95\n",
       "AU_SA   818e4a41ce7ac6b7f79967526291df5f\n",
       "AU_TAS  42a788615067d27c47e9beda35629ffd\n",
       "AU_VIC                                 1\n",
       "AU_WA   9c3d6def3b4f38ffd327c7dae0063a8b"
      ]
     },
     "execution_count": 38,
     "metadata": {},
     "output_type": "execute_result"
    }
   ],
   "source": [
    "customer_dimension"
   ]
  },
  {
   "cell_type": "code",
   "execution_count": 39,
   "metadata": {},
   "outputs": [],
   "source": [
    "ref = file_path / \"reference.csv\""
   ]
  },
  {
   "cell_type": "code",
   "execution_count": 40,
   "metadata": {
    "pycharm": {
     "name": "#%%\n"
    }
   },
   "outputs": [],
   "source": [
    "df = pd.read_csv(filepath_or_buffer=ref, header=0)"
   ]
  },
  {
   "cell_type": "code",
   "execution_count": 41,
   "metadata": {},
   "outputs": [],
   "source": [
    "add_hash(df)"
   ]
  },
  {
   "cell_type": "code",
   "execution_count": 42,
   "metadata": {},
   "outputs": [
    {
     "data": {
      "text/plain": [
       "key                                                             AD\n",
       "place_id                               ChIJlfCemC71pRIRkn_qeNc-yQc\n",
       "country_code                                                    AD\n",
       "country_name                                               Andorra\n",
       "subregion1_code                                                NaN\n",
       "subregion1_name                                                NaN\n",
       "subregion2_name                                                NaN\n",
       "__str              ADChIJlfCemC71pRIRkn_qeNc-yQcADAndorranannannan\n",
       "hash_val                          8fe6c3bdc1bf3065d9925832b5fefd50\n",
       "Name: 0, dtype: object"
      ]
     },
     "execution_count": 42,
     "metadata": {},
     "output_type": "execute_result"
    }
   ],
   "source": [
    "df.iloc[0]"
   ]
  },
  {
   "cell_type": "markdown",
   "metadata": {},
   "source": [
    "### Check for duplicate 'key' values"
   ]
  },
  {
   "cell_type": "code",
   "execution_count": 43,
   "metadata": {},
   "outputs": [],
   "source": [
    "duplicate_keys_df = df[df.duplicated(keep=False)]"
   ]
  },
  {
   "cell_type": "code",
   "execution_count": 44,
   "metadata": {},
   "outputs": [
    {
     "name": "stdout",
     "output_type": "stream",
     "text": [
      "Found 4 records that are duplicates\n"
     ]
    }
   ],
   "source": [
    "print(f\"Found {duplicate_keys_df.shape[0]} records that are duplicates\")"
   ]
  },
  {
   "cell_type": "markdown",
   "metadata": {},
   "source": [
    "#### Show the duplicates (for debug)"
   ]
  },
  {
   "cell_type": "code",
   "execution_count": 45,
   "metadata": {},
   "outputs": [
    {
     "data": {
      "text/html": [
       "<div>\n",
       "<style scoped>\n",
       "    .dataframe tbody tr th:only-of-type {\n",
       "        vertical-align: middle;\n",
       "    }\n",
       "\n",
       "    .dataframe tbody tr th {\n",
       "        vertical-align: top;\n",
       "    }\n",
       "\n",
       "    .dataframe thead th {\n",
       "        text-align: right;\n",
       "    }\n",
       "</style>\n",
       "<table border=\"1\" class=\"dataframe\">\n",
       "  <thead>\n",
       "    <tr style=\"text-align: right;\">\n",
       "      <th></th>\n",
       "      <th>key</th>\n",
       "      <th>place_id</th>\n",
       "      <th>country_code</th>\n",
       "      <th>country_name</th>\n",
       "      <th>subregion1_code</th>\n",
       "      <th>subregion1_name</th>\n",
       "      <th>subregion2_name</th>\n",
       "      <th>__str</th>\n",
       "      <th>hash_val</th>\n",
       "    </tr>\n",
       "  </thead>\n",
       "  <tbody>\n",
       "    <tr>\n",
       "      <th>13</th>\n",
       "      <td>AU</td>\n",
       "      <td>ChIJ38WHZwf9KysRUhNblaFnglM</td>\n",
       "      <td>AU</td>\n",
       "      <td>Australia</td>\n",
       "      <td>NaN</td>\n",
       "      <td>NaN</td>\n",
       "      <td>NaN</td>\n",
       "      <td>AUChIJ38WHZwf9KysRUhNblaFnglMAUAustralianannannan</td>\n",
       "      <td>ea006a33d07849ac46cb238b5ecd6e09</td>\n",
       "    </tr>\n",
       "    <tr>\n",
       "      <th>21</th>\n",
       "      <td>AU_VIC</td>\n",
       "      <td>ChIJT5UYfksx1GoRNJWCvuL8Tlo</td>\n",
       "      <td>AU</td>\n",
       "      <td>Australia</td>\n",
       "      <td>VIC</td>\n",
       "      <td>Victoria</td>\n",
       "      <td>NaN</td>\n",
       "      <td>AU_VICChIJT5UYfksx1GoRNJWCvuL8TloAUAustraliaVI...</td>\n",
       "      <td>334bcfa977f2febffd35e738a2f6fd9c</td>\n",
       "    </tr>\n",
       "  </tbody>\n",
       "</table>\n",
       "</div>"
      ],
      "text/plain": [
       "       key                     place_id country_code country_name  \\\n",
       "13      AU  ChIJ38WHZwf9KysRUhNblaFnglM           AU    Australia   \n",
       "21  AU_VIC  ChIJT5UYfksx1GoRNJWCvuL8Tlo           AU    Australia   \n",
       "\n",
       "   subregion1_code subregion1_name subregion2_name  \\\n",
       "13             NaN             NaN             NaN   \n",
       "21             VIC        Victoria             NaN   \n",
       "\n",
       "                                                __str  \\\n",
       "13  AUChIJ38WHZwf9KysRUhNblaFnglMAUAustralianannannan   \n",
       "21  AU_VICChIJT5UYfksx1GoRNJWCvuL8TloAUAustraliaVI...   \n",
       "\n",
       "                            hash_val  \n",
       "13  ea006a33d07849ac46cb238b5ecd6e09  \n",
       "21  334bcfa977f2febffd35e738a2f6fd9c  "
      ]
     },
     "execution_count": 45,
     "metadata": {},
     "output_type": "execute_result"
    }
   ],
   "source": [
    "df[df.duplicated(keep='first')]"
   ]
  },
  {
   "cell_type": "markdown",
   "metadata": {},
   "source": [
    "#### Drop the duplicates"
   ]
  },
  {
   "cell_type": "code",
   "execution_count": 46,
   "metadata": {},
   "outputs": [],
   "source": [
    "df.drop_duplicates(keep='first', inplace=True)"
   ]
  },
  {
   "cell_type": "code",
   "execution_count": 47,
   "metadata": {},
   "outputs": [],
   "source": [
    "customer_load_pre = df.join(customer_dimension, how='left', on=['key'], rsuffix='_existing')"
   ]
  },
  {
   "cell_type": "code",
   "execution_count": 48,
   "metadata": {},
   "outputs": [],
   "source": [
    "# create insert\n",
    "customer_dim_insert = customer_load_pre[customer_load_pre['hash_val_existing'].isnull()]\n",
    "del customer_dim_insert['hash_val_existing']"
   ]
  },
  {
   "cell_type": "code",
   "execution_count": 49,
   "metadata": {},
   "outputs": [],
   "source": [
    "customer_matched = customer_load_pre[~customer_load_pre['hash_val_existing'].isnull()]"
   ]
  },
  {
   "cell_type": "code",
   "execution_count": 50,
   "metadata": {},
   "outputs": [],
   "source": [
    "# create update\n",
    "customer_matched = customer_load_pre[~customer_load_pre['hash_val_existing'].isnull()]\n",
    "customer_dim_upsert = customer_matched.query('hash_val != hash_val_existing')"
   ]
  },
  {
   "cell_type": "code",
   "execution_count": 51,
   "metadata": {},
   "outputs": [],
   "source": [
    "customer_dim_insert.to_sql('stg_country_dim_insert', conn, if_exists='replace')\n",
    "customer_dim_upsert.to_sql('stg_country_dim_upsert', conn, if_exists='replace')"
   ]
  },
  {
   "cell_type": "code",
   "execution_count": 66,
   "metadata": {},
   "outputs": [],
   "source": [
    "update_query = f\"\"\"\n",
    "update country_dim\n",
    "   set effective_end_date = '{ODATE_MINUS_1}',\n",
    "       current_indicator = 0\n",
    " where current_indicator = 1\n",
    "   and exists (\n",
    "         select 1 \n",
    "           from stg_country_dim_upsert\n",
    "          where key = country_dim.key\n",
    "          );\n",
    "\"\"\"\n",
    "execute_query(conn, update_query)\n",
    "conn.commit()"
   ]
  },
  {
   "cell_type": "code",
   "execution_count": 67,
   "metadata": {},
   "outputs": [],
   "source": [
    "insert_query = f\"\"\"\n",
    "insert into country_dim\n",
    "(country_id, key, place_id, country_code, country_name, subregion1_code, subregion1_name, subregion2_name, effective_start_date, effective_end_date, hash_val, current_indicator)\n",
    "select row_number() over () + id_tbl.min_id as country_id,\n",
    "       stg.key,\n",
    "       stg.place_id,\n",
    "       stg.country_code,\n",
    "       stg.country_name,\n",
    "       stg.subregion1_code,\n",
    "       stg.subregion1_name,\n",
    "       stg.subregion2_name,\n",
    "       '{ODATE}' as 'effective_start_date',\n",
    "       '9999-12-31 00:00:00' as 'effective_end_date',\n",
    "       stg.hash_val,\n",
    "       1 as current_indicator\n",
    "from (\n",
    "select key,\n",
    "       place_id,\n",
    "       country_code,\n",
    "       country_name,\n",
    "       subregion1_code,\n",
    "       subregion1_name,\n",
    "       subregion2_name,\n",
    "       hash_val\n",
    " from stg_country_dim_insert\n",
    "union\n",
    "select key,\n",
    "       place_id,\n",
    "       country_code,\n",
    "       country_name,\n",
    "       subregion1_code,\n",
    "       subregion1_name,\n",
    "       subregion2_name,\n",
    "       hash_val\n",
    "  from stg_country_dim_upsert\n",
    "     ) stg\n",
    "cross join (select coalesce(max(country_id),0) as min_id from country_dim) id_tbl\n",
    "\"\"\"\n",
    "\n",
    "execute_query(conn, insert_query)\n",
    "conn.commit()"
   ]
  },
  {
   "cell_type": "code",
   "execution_count": 54,
   "metadata": {},
   "outputs": [
    {
     "name": "stdout",
     "output_type": "stream",
     "text": [
      "Done.\n"
     ]
    }
   ],
   "source": [
    "print(\"Done.\")"
   ]
  },
  {
   "cell_type": "code",
   "execution_count": 55,
   "metadata": {},
   "outputs": [],
   "source": [
    "conn.commit()"
   ]
  },
  {
   "cell_type": "code",
   "execution_count": 27,
   "metadata": {},
   "outputs": [],
   "source": [
    "conn.close()"
   ]
  },
  {
   "cell_type": "code",
   "execution_count": null,
   "metadata": {},
   "outputs": [],
   "source": [
    "customer_dim_insert"
   ]
  },
  {
   "cell_type": "code",
   "execution_count": null,
   "metadata": {},
   "outputs": [],
   "source": []
  }
 ],
 "metadata": {
  "kernelspec": {
   "display_name": "Python 3",
   "language": "python",
   "name": "python3"
  },
  "language_info": {
   "codemirror_mode": {
    "name": "ipython",
    "version": 3
   },
   "file_extension": ".py",
   "mimetype": "text/x-python",
   "name": "python",
   "nbconvert_exporter": "python",
   "pygments_lexer": "ipython3",
   "version": "3.9.2"
  }
 },
 "nbformat": 4,
 "nbformat_minor": 1
}
