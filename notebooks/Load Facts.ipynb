{
 "cells": [
  {
   "cell_type": "code",
   "execution_count": null,
   "id": "apparent-frequency",
   "metadata": {},
   "outputs": [],
   "source": [
    "import pandas as pd\n",
    "from pathlib import Path\n",
    "import os\n",
    "import sqlite3\n",
    "import hashlib\n",
    "import datetime"
   ]
  },
  {
   "cell_type": "code",
   "execution_count": null,
   "id": "destroyed-lender",
   "metadata": {},
   "outputs": [],
   "source": [
    "# 'Batch' settings\n",
    "ODATE = datetime.datetime(2022, 3, 20)\n",
    "ODATE_MINUS_1 = ODATE - datetime.timedelta(days=1)\n",
    "HI_DATE = '9999-12-31 00:00:00'\n",
    "\n",
    "# Database settings\n",
    "DBNAME = \"DPC_IQ.db\"\n",
    "DROP_INITIAL_DATABASE = True"
   ]
  },
  {
   "cell_type": "code",
   "execution_count": null,
   "id": "spread-partition",
   "metadata": {},
   "outputs": [],
   "source": [
    "file_path = Path(os.getcwd()) / \"../\" / \"data\""
   ]
  },
  {
   "cell_type": "code",
   "execution_count": null,
   "id": "raising-typing",
   "metadata": {},
   "outputs": [],
   "source": [
    "conn = sqlite3.connect(file_path / DBNAME)"
   ]
  },
  {
   "cell_type": "code",
   "execution_count": null,
   "id": "amended-airport",
   "metadata": {},
   "outputs": [],
   "source": [
    "def execute_query(connection, query, auto_commit=True):\n",
    "\n",
    "    cur = connection.cursor()\n",
    "    cur.execute(query)\n",
    "    \n",
    "    if auto_commit:\n",
    "        connection.commit()\n",
    "        \n",
    "def initialise_db(connection, drop_tables=False):\n",
    "    \n",
    "    if drop_tables:\n",
    "        for _t in [\"health_fact\"]:\n",
    "            execute_query(connection, f\"DROP TABLE IF EXISTS {_t}\")\n",
    "          \n",
    "    _dim_create = \"\"\"\n",
    "    create table if not exists health_fact (\n",
    "       health_id INTEGER,\n",
    "       country_id INTEGER,\n",
    "       date_taken TEXT,\n",
    "       nk_key TEXT,\n",
    "       life_expectancy REAL,\n",
    "       smoking_prevalence REAL,\n",
    "       diabetes_prevalence REAL,\n",
    "       infant_mortality_rate REAL,\n",
    "       adult_male_mortality_rate REAL,\n",
    "       adult_female_mortality_rate REAL,\n",
    "       pollution_mortality_rate REAL,\n",
    "       hospital_beds REAL\n",
    "    )\n",
    "    \"\"\"\n",
    "    \n",
    "    execute_query(connection, _dim_create)"
   ]
  },
  {
   "cell_type": "code",
   "execution_count": null,
   "id": "sharing-spencer",
   "metadata": {},
   "outputs": [],
   "source": [
    "initialise_db(conn, drop_tables=DROP_INITIAL_DATABASE)"
   ]
  },
  {
   "cell_type": "code",
   "execution_count": null,
   "id": "broken-positive",
   "metadata": {},
   "outputs": [],
   "source": [
    "fact1_csv, fact2_csv = file_path / \"health-1.csv\", file_path / \"health-2.csv\""
   ]
  },
  {
   "cell_type": "code",
   "execution_count": null,
   "id": "saving-brother",
   "metadata": {},
   "outputs": [],
   "source": [
    "fact1_df = pd.read_csv(filepath_or_buffer=fact1_csv, header=0)\n",
    "fact2_df = pd.read_csv(filepath_or_buffer=fact2_csv, header=0)"
   ]
  },
  {
   "cell_type": "code",
   "execution_count": null,
   "id": "differential-investigation",
   "metadata": {},
   "outputs": [],
   "source": [
    "def process_fact(df):   \n",
    "    \n",
    "    df.to_sql('stg_health_fact', conn, if_exists='replace', index=False)\n",
    "    \n",
    "    augment_query = \"\"\"\n",
    "    insert into country_dim\n",
    "    (country_id, key, place_id, country_code, country_name, subregion1_code, subregion1_name, subregion2_name, effective_start_date, effective_end_date, hash_val, current_indicator, augment_indicator)\n",
    "    select row_number() over () + id_tbl.max_id as country_id,\n",
    "           augment_key,\n",
    "           'UNKNOWN',\n",
    "           'UNKNOWN',\n",
    "           'UNKNOWN',\n",
    "           'UNKNOWN', \n",
    "           'UNKNOWN',\n",
    "           'UNKNOWN',\n",
    "           '{ODATE}' as 'effective_start_date',\n",
    "           '{HI_DATE}' as 'effective_end_date',\n",
    "           -1,\n",
    "           1 as current_indicator,\n",
    "           1 as augment_indicator\n",
    "    from \n",
    "    (\n",
    "        select distinct(key) as augment_key\n",
    "          from stg_health_fact fact\n",
    "        where not exists (\n",
    "         select 1 \n",
    "           from country_dim dim\n",
    "          where current_indicator = 1 \n",
    "            and dim.key = fact.key\n",
    "        )\n",
    "    ) augment\n",
    "    cross join (select coalesce(max(country_id),0) as max_id from country_dim) id_tbl\n",
    "    \"\"\"\n",
    "    \n",
    "    fact_load_query = \"\"\"\n",
    "    insert into health_fact \n",
    "    (health_id, country_id, date_taken, nk_key, life_expectancy, smoking_prevalence, diabetes_prevalence, infant_mortality_rate, adult_male_mortality_rate, adult_female_mortality_rate, pollution_mortality_rate, hospital_beds)\n",
    "    select row_number() over () + max_id.id as health_id,\n",
    "           dim.country_id,\n",
    "           fact.date_taken,\n",
    "           fact.key,\n",
    "           fact.life_expectancy,\n",
    "           fact.smoking_prevalence,\n",
    "           fact.diabetes_prevalence,\n",
    "           fact.infant_mortality_rate,\n",
    "           fact.adult_male_mortality_rate,\n",
    "           fact.adult_female_mortality_rate,\n",
    "           fact.pollution_mortality_rate,\n",
    "           fact.hospital_beds\n",
    "    from stg_health_fact fact\n",
    "    inner join country_dim dim\n",
    "    on fact.key = dim.key\n",
    "    and dim.current_indicator = 1\n",
    "    cross join(select coalesce(max(health_id), 0) as id from health_fact) as max_id\n",
    "    \"\"\"\n",
    "       \n",
    "    execute_query(conn, augment_query)\n",
    "    execute_query(conn, fact_load_query)"
   ]
  },
  {
   "cell_type": "code",
   "execution_count": null,
   "id": "domestic-armstrong",
   "metadata": {},
   "outputs": [],
   "source": [
    "process_fact(fact1_df)"
   ]
  },
  {
   "cell_type": "code",
   "execution_count": null,
   "id": "subject-uganda",
   "metadata": {},
   "outputs": [],
   "source": [
    "process_fact(fact2_df)"
   ]
  },
  {
   "cell_type": "code",
   "execution_count": null,
   "id": "sustained-responsibility",
   "metadata": {},
   "outputs": [],
   "source": [
    "conn.close()"
   ]
  },
  {
   "cell_type": "code",
   "execution_count": null,
   "id": "collectible-morris",
   "metadata": {},
   "outputs": [],
   "source": []
  }
 ],
 "metadata": {
  "kernelspec": {
   "display_name": "Python 3",
   "language": "python",
   "name": "python3"
  },
  "language_info": {
   "codemirror_mode": {
    "name": "ipython",
    "version": 3
   },
   "file_extension": ".py",
   "mimetype": "text/x-python",
   "name": "python",
   "nbconvert_exporter": "python",
   "pygments_lexer": "ipython3",
   "version": "3.8.5"
  }
 },
 "nbformat": 4,
 "nbformat_minor": 5
}
